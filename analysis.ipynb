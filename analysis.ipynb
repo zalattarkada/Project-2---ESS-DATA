{
 "cells": [
  {
   "cell_type": "code",
   "execution_count": 2,
   "metadata": {},
   "outputs": [],
   "source": [
    "import pandas as pd"
   ]
  },
  {
   "cell_type": "code",
   "execution_count": null,
   "metadata": {},
   "outputs": [],
   "source": [
    "#Allow many/few immigrants of same race/ethnic group as majority\n",
    "\n",
    "same_race = df['imsmetn'].mean()\n",
    "same_race"
   ]
  },
  {
   "cell_type": "code",
   "execution_count": 1,
   "metadata": {},
   "outputs": [
    {
     "ename": "NameError",
     "evalue": "name 'df' is not defined",
     "output_type": "error",
     "traceback": [
      "\u001b[0;31m---------------------------------------------------------------------------\u001b[0m",
      "\u001b[0;31mNameError\u001b[0m                                 Traceback (most recent call last)",
      "\u001b[1;32m/Users/zakaria/Desktop/ironhack/Project-2---ESS-DATA/analysis.ipynb Cell 2\u001b[0m in \u001b[0;36m<cell line: 3>\u001b[0;34m()\u001b[0m\n\u001b[1;32m      <a href='vscode-notebook-cell:/Users/zakaria/Desktop/ironhack/Project-2---ESS-DATA/analysis.ipynb#W1sZmlsZQ%3D%3D?line=0'>1</a>\u001b[0m \u001b[39m# Allow many/few immigrants of d ... ace/ethnic group from majority\u001b[39;00m\n\u001b[0;32m----> <a href='vscode-notebook-cell:/Users/zakaria/Desktop/ironhack/Project-2---ESS-DATA/analysis.ipynb#W1sZmlsZQ%3D%3D?line=2'>3</a>\u001b[0m diferent_race \u001b[39m=\u001b[39m df[\u001b[39m'\u001b[39m\u001b[39mimdfetn\u001b[39m\u001b[39m'\u001b[39m]\u001b[39m.\u001b[39mmean()\n\u001b[1;32m      <a href='vscode-notebook-cell:/Users/zakaria/Desktop/ironhack/Project-2---ESS-DATA/analysis.ipynb#W1sZmlsZQ%3D%3D?line=3'>4</a>\u001b[0m diferent_race\n",
      "\u001b[0;31mNameError\u001b[0m: name 'df' is not defined"
     ]
    }
   ],
   "source": [
    "# Allow many/few immigrants of d ... ace/ethnic group from majority\n",
    "\n",
    "diferent_race = df['imdfetn'].mean()\n",
    "diferent_race"
   ]
  },
  {
   "cell_type": "code",
   "execution_count": 3,
   "metadata": {},
   "outputs": [
    {
     "ename": "NameError",
     "evalue": "name 'df' is not defined",
     "output_type": "error",
     "traceback": [
      "\u001b[0;31m---------------------------------------------------------------------------\u001b[0m",
      "\u001b[0;31mNameError\u001b[0m                                 Traceback (most recent call last)",
      "\u001b[1;32m/Users/zakaria/Desktop/ironhack/Project-2---ESS-DATA/analysis.ipynb Cell 4\u001b[0m in \u001b[0;36m<cell line: 3>\u001b[0;34m()\u001b[0m\n\u001b[1;32m      <a href='vscode-notebook-cell:/Users/zakaria/Desktop/ironhack/Project-2---ESS-DATA/analysis.ipynb#W2sZmlsZQ%3D%3D?line=0'>1</a>\u001b[0m \u001b[39m# Allow many/few immigrants from poorer countries outside Europe\u001b[39;00m\n\u001b[0;32m----> <a href='vscode-notebook-cell:/Users/zakaria/Desktop/ironhack/Project-2---ESS-DATA/analysis.ipynb#W2sZmlsZQ%3D%3D?line=2'>3</a>\u001b[0m poor_countries \u001b[39m=\u001b[39m df[\u001b[39m'\u001b[39m\u001b[39mimpcntr\u001b[39m\u001b[39m'\u001b[39m]\u001b[39m.\u001b[39mmean()\n\u001b[1;32m      <a href='vscode-notebook-cell:/Users/zakaria/Desktop/ironhack/Project-2---ESS-DATA/analysis.ipynb#W2sZmlsZQ%3D%3D?line=3'>4</a>\u001b[0m poor_countries\n",
      "\u001b[0;31mNameError\u001b[0m: name 'df' is not defined"
     ]
    }
   ],
   "source": [
    "# Allow many/few immigrants from poorer countries outside Europe\n",
    "\n",
    "poor_countries = df['impcntr'].mean()\n",
    "poor_countries"
   ]
  },
  {
   "cell_type": "code",
   "execution_count": null,
   "metadata": {},
   "outputs": [],
   "source": [
    "# Immigration bad or good for country's economy\n",
    "\n",
    "economy = df['imbgeco'].mean()\n",
    "economy"
   ]
  },
  {
   "cell_type": "code",
   "execution_count": null,
   "metadata": {},
   "outputs": [],
   "source": [
    "# Immigrants make country worse or better place to live\n",
    "\n",
    "life_quality = df['imwbcnt'].mean()\n",
    "life_quality"
   ]
  }
 ],
 "metadata": {
  "kernelspec": {
   "display_name": "ironhack",
   "language": "python",
   "name": "python3"
  },
  "language_info": {
   "codemirror_mode": {
    "name": "ipython",
    "version": 3
   },
   "file_extension": ".py",
   "mimetype": "text/x-python",
   "name": "python",
   "nbconvert_exporter": "python",
   "pygments_lexer": "ipython3",
   "version": "3.9.12"
  },
  "orig_nbformat": 4
 },
 "nbformat": 4,
 "nbformat_minor": 2
}
