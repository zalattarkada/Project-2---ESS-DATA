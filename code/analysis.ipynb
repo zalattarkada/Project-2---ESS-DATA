{
 "cells": [
  {
   "cell_type": "code",
   "execution_count": 27,
   "metadata": {},
   "outputs": [],
   "source": [
    "import pandas as pd\n",
    "import matplotlib.pyplot as plt\n",
    "import statsmodels.formula.api as smf\n",
    "import seaborn as sns\n",
    "from sklearn.linear_model import LinearRegression\n",
    "from scipy.stats import ttest_ind\n",
    "import numpy as np\n",
    "from scipy.stats import mannwhitneyu\n",
    "from scipy.stats import ttest_ind\n",
    "from sklearn.linear_model import LogisticRegression\n",
    "from mpl_toolkits.mplot3d import Axes3D\n",
    "import statsmodels.api as sm\n",
    "from sklearn.linear_model import LinearRegression\n",
    "from scipy.stats import f_oneway\n"
   ]
  },
  {
   "attachments": {},
   "cell_type": "markdown",
   "metadata": {},
   "source": [
    "## Hipotesis\n",
    "1. La raza del inmigrante afecta significativamente a la valoracion que hace el encuestado de la inmigración.\n",
    "2. La variable de la raza de un inmigrante tiene más importancia que otra variable cómo la económica\n",
    "3. No hay una diferencia concluyente entre los encuestados de distintos países con una demografía similar (Italia, Franci y España)."
   ]
  },
  {
   "cell_type": "code",
   "execution_count": 2,
   "metadata": {},
   "outputs": [
    {
     "data": {
      "text/html": [
       "<div>\n",
       "<style scoped>\n",
       "    .dataframe tbody tr th:only-of-type {\n",
       "        vertical-align: middle;\n",
       "    }\n",
       "\n",
       "    .dataframe tbody tr th {\n",
       "        vertical-align: top;\n",
       "    }\n",
       "\n",
       "    .dataframe thead th {\n",
       "        text-align: right;\n",
       "    }\n",
       "</style>\n",
       "<table border=\"1\" class=\"dataframe\">\n",
       "  <thead>\n",
       "    <tr style=\"text-align: right;\">\n",
       "      <th></th>\n",
       "      <th>idno</th>\n",
       "      <th>cntry</th>\n",
       "      <th>imsmetn</th>\n",
       "      <th>imdfetn</th>\n",
       "      <th>impcntr</th>\n",
       "      <th>imbgeco</th>\n",
       "      <th>imueclt</th>\n",
       "      <th>imwbcnt</th>\n",
       "      <th>anctry1</th>\n",
       "      <th>anctry2</th>\n",
       "    </tr>\n",
       "  </thead>\n",
       "  <tbody>\n",
       "    <tr>\n",
       "      <th>0</th>\n",
       "      <td>10002</td>\n",
       "      <td>BG</td>\n",
       "      <td>3.0</td>\n",
       "      <td>3.0</td>\n",
       "      <td>3.0</td>\n",
       "      <td>2.4</td>\n",
       "      <td>2.0</td>\n",
       "      <td>2.0</td>\n",
       "      <td>Bulgarian nfs</td>\n",
       "      <td>No second ancestry*</td>\n",
       "    </tr>\n",
       "    <tr>\n",
       "      <th>1</th>\n",
       "      <td>10006</td>\n",
       "      <td>BG</td>\n",
       "      <td>1.0</td>\n",
       "      <td>2.0</td>\n",
       "      <td>2.0</td>\n",
       "      <td>0.9</td>\n",
       "      <td>5.0</td>\n",
       "      <td>4.0</td>\n",
       "      <td>Bulgarian nfs</td>\n",
       "      <td>No second ancestry*</td>\n",
       "    </tr>\n",
       "    <tr>\n",
       "      <th>2</th>\n",
       "      <td>10009</td>\n",
       "      <td>BG</td>\n",
       "      <td>1.0</td>\n",
       "      <td>3.0</td>\n",
       "      <td>2.0</td>\n",
       "      <td>1.2</td>\n",
       "      <td>7.0</td>\n",
       "      <td>6.0</td>\n",
       "      <td>Bulgarian nfs</td>\n",
       "      <td>No second ancestry*</td>\n",
       "    </tr>\n",
       "    <tr>\n",
       "      <th>3</th>\n",
       "      <td>10027</td>\n",
       "      <td>BG</td>\n",
       "      <td>1.0</td>\n",
       "      <td>3.0</td>\n",
       "      <td>4.0</td>\n",
       "      <td>1.8</td>\n",
       "      <td>5.0</td>\n",
       "      <td>3.0</td>\n",
       "      <td>Bulgarian nfs</td>\n",
       "      <td>No second ancestry*</td>\n",
       "    </tr>\n",
       "    <tr>\n",
       "      <th>4</th>\n",
       "      <td>10048</td>\n",
       "      <td>BG</td>\n",
       "      <td>1.0</td>\n",
       "      <td>2.0</td>\n",
       "      <td>2.0</td>\n",
       "      <td>1.5</td>\n",
       "      <td>5.0</td>\n",
       "      <td>5.0</td>\n",
       "      <td>Bulgarian nfs</td>\n",
       "      <td>No second ancestry*</td>\n",
       "    </tr>\n",
       "    <tr>\n",
       "      <th>...</th>\n",
       "      <td>...</td>\n",
       "      <td>...</td>\n",
       "      <td>...</td>\n",
       "      <td>...</td>\n",
       "      <td>...</td>\n",
       "      <td>...</td>\n",
       "      <td>...</td>\n",
       "      <td>...</td>\n",
       "      <td>...</td>\n",
       "      <td>...</td>\n",
       "    </tr>\n",
       "    <tr>\n",
       "      <th>30524</th>\n",
       "      <td>27788</td>\n",
       "      <td>SK</td>\n",
       "      <td>2.0</td>\n",
       "      <td>4.0</td>\n",
       "      <td>4.0</td>\n",
       "      <td>3.0</td>\n",
       "      <td>0.0</td>\n",
       "      <td>0.0</td>\n",
       "      <td>Slovak nfs</td>\n",
       "      <td>No second ancestry*</td>\n",
       "    </tr>\n",
       "    <tr>\n",
       "      <th>30525</th>\n",
       "      <td>27808</td>\n",
       "      <td>SK</td>\n",
       "      <td>2.0</td>\n",
       "      <td>2.0</td>\n",
       "      <td>3.0</td>\n",
       "      <td>3.0</td>\n",
       "      <td>8.0</td>\n",
       "      <td>6.0</td>\n",
       "      <td>Slovak nfs</td>\n",
       "      <td>Don't know*</td>\n",
       "    </tr>\n",
       "    <tr>\n",
       "      <th>30526</th>\n",
       "      <td>27826</td>\n",
       "      <td>SK</td>\n",
       "      <td>2.0</td>\n",
       "      <td>2.0</td>\n",
       "      <td>2.0</td>\n",
       "      <td>0.9</td>\n",
       "      <td>7.0</td>\n",
       "      <td>6.0</td>\n",
       "      <td>Slovak nfs</td>\n",
       "      <td>No second ancestry*</td>\n",
       "    </tr>\n",
       "    <tr>\n",
       "      <th>30527</th>\n",
       "      <td>27834</td>\n",
       "      <td>SK</td>\n",
       "      <td>4.0</td>\n",
       "      <td>4.0</td>\n",
       "      <td>3.0</td>\n",
       "      <td>3.0</td>\n",
       "      <td>2.0</td>\n",
       "      <td>2.0</td>\n",
       "      <td>Slovak nfs</td>\n",
       "      <td>No second ancestry*</td>\n",
       "    </tr>\n",
       "    <tr>\n",
       "      <th>30528</th>\n",
       "      <td>27858</td>\n",
       "      <td>SK</td>\n",
       "      <td>2.0</td>\n",
       "      <td>2.0</td>\n",
       "      <td>2.0</td>\n",
       "      <td>1.5</td>\n",
       "      <td>4.0</td>\n",
       "      <td>4.0</td>\n",
       "      <td>Slovak nfs</td>\n",
       "      <td>Czech nfs</td>\n",
       "    </tr>\n",
       "  </tbody>\n",
       "</table>\n",
       "<p>30529 rows × 10 columns</p>\n",
       "</div>"
      ],
      "text/plain": [
       "        idno cntry  imsmetn  imdfetn  impcntr  imbgeco  imueclt  imwbcnt  \\\n",
       "0      10002    BG      3.0      3.0      3.0      2.4      2.0      2.0   \n",
       "1      10006    BG      1.0      2.0      2.0      0.9      5.0      4.0   \n",
       "2      10009    BG      1.0      3.0      2.0      1.2      7.0      6.0   \n",
       "3      10027    BG      1.0      3.0      4.0      1.8      5.0      3.0   \n",
       "4      10048    BG      1.0      2.0      2.0      1.5      5.0      5.0   \n",
       "...      ...   ...      ...      ...      ...      ...      ...      ...   \n",
       "30524  27788    SK      2.0      4.0      4.0      3.0      0.0      0.0   \n",
       "30525  27808    SK      2.0      2.0      3.0      3.0      8.0      6.0   \n",
       "30526  27826    SK      2.0      2.0      2.0      0.9      7.0      6.0   \n",
       "30527  27834    SK      4.0      4.0      3.0      3.0      2.0      2.0   \n",
       "30528  27858    SK      2.0      2.0      2.0      1.5      4.0      4.0   \n",
       "\n",
       "             anctry1               anctry2  \n",
       "0      Bulgarian nfs  No second ancestry*   \n",
       "1      Bulgarian nfs  No second ancestry*   \n",
       "2      Bulgarian nfs  No second ancestry*   \n",
       "3      Bulgarian nfs  No second ancestry*   \n",
       "4      Bulgarian nfs  No second ancestry*   \n",
       "...              ...                   ...  \n",
       "30524     Slovak nfs  No second ancestry*   \n",
       "30525     Slovak nfs           Don't know*  \n",
       "30526     Slovak nfs  No second ancestry*   \n",
       "30527     Slovak nfs  No second ancestry*   \n",
       "30528     Slovak nfs             Czech nfs  \n",
       "\n",
       "[30529 rows x 10 columns]"
      ]
     },
     "execution_count": 2,
     "metadata": {},
     "output_type": "execute_result"
    }
   ],
   "source": [
    "df = pd.read_csv(\"../data/clean-ess.csv\")\n",
    "df"
   ]
  },
  {
   "cell_type": "code",
   "execution_count": 17,
   "metadata": {},
   "outputs": [
    {
     "data": {
      "text/plain": [
       "GR    2630\n",
       "IT    2480\n",
       "BG    2470\n",
       "CZ    2254\n",
       "FR    1795\n",
       "HU    1628\n",
       "PT    1555\n",
       "FI    1504\n",
       "EE    1491\n",
       "HR    1437\n",
       "CH    1431\n",
       "LT    1426\n",
       "NO    1362\n",
       "NL    1353\n",
       "MK    1263\n",
       "SK    1246\n",
       "ME    1178\n",
       "SI    1177\n",
       "IS     849\n",
       "Name: cntry, dtype: int64"
      ]
     },
     "execution_count": 17,
     "metadata": {},
     "output_type": "execute_result"
    }
   ],
   "source": [
    "df['cntry'].value_counts()\n"
   ]
  },
  {
   "cell_type": "code",
   "execution_count": 3,
   "metadata": {},
   "outputs": [
    {
     "data": {
      "text/html": [
       "<div>\n",
       "<style scoped>\n",
       "    .dataframe tbody tr th:only-of-type {\n",
       "        vertical-align: middle;\n",
       "    }\n",
       "\n",
       "    .dataframe tbody tr th {\n",
       "        vertical-align: top;\n",
       "    }\n",
       "\n",
       "    .dataframe thead th {\n",
       "        text-align: right;\n",
       "    }\n",
       "</style>\n",
       "<table border=\"1\" class=\"dataframe\">\n",
       "  <thead>\n",
       "    <tr style=\"text-align: right;\">\n",
       "      <th></th>\n",
       "      <th>country_code</th>\n",
       "      <th>date</th>\n",
       "      <th>indicator_value</th>\n",
       "      <th>country_id</th>\n",
       "      <th>country_value</th>\n",
       "      <th>gdp</th>\n",
       "    </tr>\n",
       "  </thead>\n",
       "  <tbody>\n",
       "    <tr>\n",
       "      <th>0</th>\n",
       "      <td>AFE</td>\n",
       "      <td>2021</td>\n",
       "      <td>GDP per capita (current US$)</td>\n",
       "      <td>ZH</td>\n",
       "      <td>Africa Eastern and Southern</td>\n",
       "      <td>$1,549.77</td>\n",
       "    </tr>\n",
       "    <tr>\n",
       "      <th>1</th>\n",
       "      <td>AFE</td>\n",
       "      <td>2020</td>\n",
       "      <td>GDP per capita (current US$)</td>\n",
       "      <td>ZH</td>\n",
       "      <td>Africa Eastern and Southern</td>\n",
       "      <td>$1,363.54</td>\n",
       "    </tr>\n",
       "    <tr>\n",
       "      <th>2</th>\n",
       "      <td>AFE</td>\n",
       "      <td>2019</td>\n",
       "      <td>GDP per capita (current US$)</td>\n",
       "      <td>ZH</td>\n",
       "      <td>Africa Eastern and Southern</td>\n",
       "      <td>$1,512.27</td>\n",
       "    </tr>\n",
       "    <tr>\n",
       "      <th>3</th>\n",
       "      <td>AFE</td>\n",
       "      <td>2018</td>\n",
       "      <td>GDP per capita (current US$)</td>\n",
       "      <td>ZH</td>\n",
       "      <td>Africa Eastern and Southern</td>\n",
       "      <td>$1,564.73</td>\n",
       "    </tr>\n",
       "    <tr>\n",
       "      <th>4</th>\n",
       "      <td>AFE</td>\n",
       "      <td>2017</td>\n",
       "      <td>GDP per capita (current US$)</td>\n",
       "      <td>ZH</td>\n",
       "      <td>Africa Eastern and Southern</td>\n",
       "      <td>$1,628.59</td>\n",
       "    </tr>\n",
       "    <tr>\n",
       "      <th>...</th>\n",
       "      <td>...</td>\n",
       "      <td>...</td>\n",
       "      <td>...</td>\n",
       "      <td>...</td>\n",
       "      <td>...</td>\n",
       "      <td>...</td>\n",
       "    </tr>\n",
       "    <tr>\n",
       "      <th>16487</th>\n",
       "      <td>ZWE</td>\n",
       "      <td>1964</td>\n",
       "      <td>GDP per capita (current US$)</td>\n",
       "      <td>ZW</td>\n",
       "      <td>Zimbabwe</td>\n",
       "      <td>$282.38</td>\n",
       "    </tr>\n",
       "    <tr>\n",
       "      <th>16488</th>\n",
       "      <td>ZWE</td>\n",
       "      <td>1963</td>\n",
       "      <td>GDP per capita (current US$)</td>\n",
       "      <td>ZW</td>\n",
       "      <td>Zimbabwe</td>\n",
       "      <td>$277.53</td>\n",
       "    </tr>\n",
       "    <tr>\n",
       "      <th>16489</th>\n",
       "      <td>ZWE</td>\n",
       "      <td>1962</td>\n",
       "      <td>GDP per capita (current US$)</td>\n",
       "      <td>ZW</td>\n",
       "      <td>Zimbabwe</td>\n",
       "      <td>$275.97</td>\n",
       "    </tr>\n",
       "    <tr>\n",
       "      <th>16490</th>\n",
       "      <td>ZWE</td>\n",
       "      <td>1961</td>\n",
       "      <td>GDP per capita (current US$)</td>\n",
       "      <td>ZW</td>\n",
       "      <td>Zimbabwe</td>\n",
       "      <td>$279.33</td>\n",
       "    </tr>\n",
       "    <tr>\n",
       "      <th>16491</th>\n",
       "      <td>ZWE</td>\n",
       "      <td>1960</td>\n",
       "      <td>GDP per capita (current US$)</td>\n",
       "      <td>ZW</td>\n",
       "      <td>Zimbabwe</td>\n",
       "      <td>$276.64</td>\n",
       "    </tr>\n",
       "  </tbody>\n",
       "</table>\n",
       "<p>16492 rows × 6 columns</p>\n",
       "</div>"
      ],
      "text/plain": [
       "      country_code  date               indicator_value country_id  \\\n",
       "0              AFE  2021  GDP per capita (current US$)         ZH   \n",
       "1              AFE  2020  GDP per capita (current US$)         ZH   \n",
       "2              AFE  2019  GDP per capita (current US$)         ZH   \n",
       "3              AFE  2018  GDP per capita (current US$)         ZH   \n",
       "4              AFE  2017  GDP per capita (current US$)         ZH   \n",
       "...            ...   ...                           ...        ...   \n",
       "16487          ZWE  1964  GDP per capita (current US$)         ZW   \n",
       "16488          ZWE  1963  GDP per capita (current US$)         ZW   \n",
       "16489          ZWE  1962  GDP per capita (current US$)         ZW   \n",
       "16490          ZWE  1961  GDP per capita (current US$)         ZW   \n",
       "16491          ZWE  1960  GDP per capita (current US$)         ZW   \n",
       "\n",
       "                     country_value        gdp  \n",
       "0      Africa Eastern and Southern  $1,549.77  \n",
       "1      Africa Eastern and Southern  $1,363.54  \n",
       "2      Africa Eastern and Southern  $1,512.27  \n",
       "3      Africa Eastern and Southern  $1,564.73  \n",
       "4      Africa Eastern and Southern  $1,628.59  \n",
       "...                            ...        ...  \n",
       "16487                     Zimbabwe    $282.38  \n",
       "16488                     Zimbabwe    $277.53  \n",
       "16489                     Zimbabwe    $275.97  \n",
       "16490                     Zimbabwe    $279.33  \n",
       "16491                     Zimbabwe    $276.64  \n",
       "\n",
       "[16492 rows x 6 columns]"
      ]
     },
     "execution_count": 3,
     "metadata": {},
     "output_type": "execute_result"
    }
   ],
   "source": [
    "df2 = pd.read_csv(\"../data/cleanpib.csv\")\n",
    "df2"
   ]
  },
  {
   "attachments": {},
   "cell_type": "markdown",
   "metadata": {},
   "source": [
    "### 1. La raza del inmigrante afecta significativamente a la valoracion que hace el encuestado de la inmigración.\n"
   ]
  },
  {
   "cell_type": "code",
   "execution_count": 59,
   "metadata": {},
   "outputs": [
    {
     "name": "stdout",
     "output_type": "stream",
     "text": [
      "            imsmetn       imdfetn\n",
      "count  32611.000000  32582.000000\n",
      "mean       2.139554      2.505893\n",
      "std        0.895727      0.938722\n",
      "min        1.000000      1.000000\n",
      "25%        1.000000      2.000000\n",
      "50%        2.000000      2.000000\n",
      "75%        3.000000      3.000000\n",
      "max        4.000000      4.000000\n"
     ]
    }
   ],
   "source": [
    "immigration_perception = df[['imsmetn', 'imdfetn']]\n",
    "\n",
    "summary_stats = immigration_perception.describe()\n",
    "\n",
    "print(summary_stats)"
   ]
  },
  {
   "cell_type": "code",
   "execution_count": 60,
   "metadata": {},
   "outputs": [],
   "source": [
    "imdfetn_mean = df.groupby('imdfetn').size() / len(df)\n",
    "imsmetn_mean = df.groupby('imsmetn').size() / len(df)\n"
   ]
  },
  {
   "cell_type": "code",
   "execution_count": 25,
   "metadata": {},
   "outputs": [],
   "source": [
    "df['immigration_perception'] = df[['imsmetn', 'imdfetn', 'imbgeco']].mean(axis=1)\n"
   ]
  },
  {
   "cell_type": "code",
   "execution_count": 61,
   "metadata": {},
   "outputs": [
    {
     "data": {
      "image/png": "[encoded data removed]",
      "text/plain": [
       "<Figure size 576x288 with 1 Axes>"
      ]
     },
     "metadata": {},
     "output_type": "display_data"
    }
   ],
   "source": [
    "# Set the style for the plot\n",
    "sns.set_style(\"whitegrid\")\n",
    "\n",
    "# Define the colors for the lines\n",
    "colors = sns.color_palette(\"pastel\", 2)\n",
    "\n",
    "# Plot the lines\n",
    "plt.figure(figsize=(8, 4))\n",
    "plt.plot(imsmetn_mean.index, imsmetn_mean, label='Allow same race', color=colors[0], linewidth=2)\n",
    "plt.plot(imdfetn_mean.index, imdfetn_mean, label='Allow different race', color=colors[1], linewidth=2)\n",
    "\n",
    "# Add a background color to the plot\n",
    "plt.fill_between(imsmetn_mean.index, imsmetn_mean, color=colors[0], alpha=0.2)\n",
    "plt.fill_between(imdfetn_mean.index, imdfetn_mean, color=colors[1], alpha=0.2)\n",
    "\n",
    "# Add a grid to the plot\n",
    "plt.grid(True, color='white')\n",
    "\n",
    "# Set the title, axis labels and legend\n",
    "plt.title('Perception of Immigration by Race/Ethnicity', fontsize=14)\n",
    "plt.xlabel('Perception of Immigration from Positive to Negative', fontsize=12)\n",
    "plt.ylabel('Proportion of Respondents', fontsize=12)\n",
    "plt.legend()\n",
    "\n",
    "# Set the font style and size\n",
    "plt.rc('font', family='serif', size=12)\n",
    "\n",
    "# Show the plot\n",
    "plt.show()"
   ]
  },
  {
   "attachments": {},
   "cell_type": "markdown",
   "metadata": {},
   "source": [
    "sed on the correlation coefficients you provided, we can say that there is a stronger negative correlation between imsmetn and race_perception (-0.34) compared to the positive correlation between imdfetn and race_perception (0.44).\n",
    "\n",
    "This suggests that a more positive perception of immigration of the same race is associated with a more positive perception of race relations, while a more positive perception of immigration of a different race is associated with a more negative perception of race relations. However, it's important to note that correlation does not necessarily imply causation and further analysis would be needed to determine the direction and strength of any causal relationships.\n",
    "\n",
    "\n",
    "\n",
    "\n"
   ]
  },
  {
   "cell_type": "code",
   "execution_count": 62,
   "metadata": {},
   "outputs": [],
   "source": [
    "df = df.dropna()\n"
   ]
  },
  {
   "cell_type": "code",
   "execution_count": 101,
   "metadata": {},
   "outputs": [
    {
     "name": "stdout",
     "output_type": "stream",
     "text": [
      "Estadístico U: 566293716.5\n",
      "Valor de p: 1.0\n"
     ]
    }
   ],
   "source": [
    "# Selecciona las columnas relevantes\n",
    "df = df[['imdfetn', 'imsmetn']]\n",
    "\n",
    "# Realiza el test de Mann-Whitney U\n",
    "stat, p_value = mannwhitneyu(df['imdfetn'], df['imsmetn'], alternative='less')\n",
    "\n",
    "# Imprime los resultados\n",
    "print('Estadístico U:', stat)\n",
    "print('Valor de p:', p_value)"
   ]
  },
  {
   "attachments": {},
   "cell_type": "markdown",
   "metadata": {},
   "source": [
    "El estadístico U es una medida de la diferencia entre las medianas de dos grupos en una prueba de Mann-Whitney U. En este caso, el valor del estadístico U es 566293716.5, lo que indica que hay una diferencia entre las medianas de las dos columnas que se están comparando (imdfetn e imsmetn).\n",
    "\n",
    "Sin embargo, el valor de p es alto (1.0), lo que sugiere que esta diferencia no es estadísticamente significativa. Por lo tanto, no se puede concluir que haya una diferencia significativa en la actitud hacia la inmigración dependiendo de si el inmigrante es de la misma raza o no en base a los datos proporcionados en el dataframe.\n",
    "\n",
    "\n",
    "\n",
    "\n"
   ]
  },
  {
   "cell_type": "code",
   "execution_count": 68,
   "metadata": {},
   "outputs": [
    {
     "data": {
      "image/png": "[encoded data removed]",
      "text/plain": [
       "<Figure size 720x432 with 1 Axes>"
      ]
     },
     "metadata": {},
     "output_type": "display_data"
    }
   ],
   "source": [
    "import seaborn as sns\n",
    "import matplotlib.pyplot as plt\n",
    "\n",
    "# Selecciona las columnas relevantes\n",
    "df1 = df[['imdfetn', 'imsmetn']]\n",
    "\n",
    "# Crea el boxplot usando Seaborn\n",
    "sns.set(style='whitegrid', palette=['#FFA07A', '#ADD8E6'])\n",
    "fig, ax = plt.subplots(figsize=(10, 6))\n",
    "sns.boxplot(data=df, ax=ax, orient='h')\n",
    "\n",
    "# Agrega los títulos y ajusta los ejes\n",
    "ax.set_title('Actitud hacia la inmigración dependiendo de la raza del inmigrante', fontsize=14)\n",
    "ax.set_xlabel('Valoración (1 más positiva, 4 más negativa)', fontsize=12)\n",
    "ax.set_ylabel('Tipo de inmigración', fontsize=12)\n",
    "ax.tick_params(labelsize=10)\n",
    "\n",
    "# Muestra el gráfico\n",
    "plt.show()"
   ]
  },
  {
   "cell_type": "code",
   "execution_count": 73,
   "metadata": {},
   "outputs": [],
   "source": [
    "df = pd.read_csv(\"../data/clean-ess.csv\")\n"
   ]
  },
  {
   "attachments": {},
   "cell_type": "markdown",
   "metadata": {},
   "source": [
    "### 2. La variable de la raza de un inmigrante tiene más importancia que otra variable cómo podría ser la económica\n"
   ]
  },
  {
   "cell_type": "code",
   "execution_count": 92,
   "metadata": {},
   "outputs": [
    {
     "name": "stdout",
     "output_type": "stream",
     "text": [
      "Coeficientes: [[6.44765115 1.52385538 3.68494186]]\n",
      "Intercepto: [-22.78138687]\n",
      "Exactitud: 0.97808640964329\n"
     ]
    }
   ],
   "source": [
    "# Selecciona las columnas relevantes y ajusta la valoración de imbgeco\n",
    "df = df[['imdfetn', 'imsmetn', 'imbgeco']]\n",
    "\n",
    "# Crea una variable binaria para indicar si la valoración es negativa o no\n",
    "df['valoracion_negativa'] = ((df['imdfetn'] > 2) | (df['imsmetn'] > 2) | (df['imbgeco'] > 2)).astype(int)\n",
    "\n",
    "# Define las variables independientes y dependiente\n",
    "X = df[['imdfetn', 'imsmetn', 'imbgeco']]\n",
    "y = df['valoracion_negativa']\n",
    "\n",
    "# Realiza la regresión logística\n",
    "log_reg = LogisticRegression().fit(X, y)\n",
    "\n",
    "# Imprime los resultados\n",
    "print('Coeficientes:', log_reg.coef_)\n",
    "print('Intercepto:', log_reg.intercept_)\n",
    "print('Exactitud:', log_reg.score(X, y))"
   ]
  },
  {
   "attachments": {},
   "cell_type": "markdown",
   "metadata": {},
   "source": [
    "\n",
    "A partir del análisis de regresión logística que realizamos anteriormente, podemos concluir que las variables raciales e económicas no parecen estar relacionadas de forma significativa con las valoraciones negativas de la inmigración en España. Esto se debe a que los coeficientes para ambas variables, 'imbgeco' y 'imdfetn'/'imsmetn', son relativamente bajos en comparación con el coeficiente de intercepto, lo que indica que su efecto sobre la variable dependiente ('valoracion_negativa') es bastante limitado."
   ]
  },
  {
   "cell_type": "code",
   "execution_count": 100,
   "metadata": {},
   "outputs": [
    {
     "data": {
      "image/png": "[encoded data removed]",
      "text/plain": [
       "<Figure size 432x288 with 1 Axes>"
      ]
     },
     "metadata": {},
     "output_type": "display_data"
    }
   ],
   "source": [
    "df = df[['imdfetn', 'imsmetn', 'imbgeco']]\n",
    "\n",
    "# Crea una variable binaria para indicar si la valoración es negativa o no\n",
    "df['valoracion_negativa'] = ((df['imdfetn'] > 2) | (df['imsmetn'] > 2) | (df['imbgeco'] > 2)).astype(int)\n",
    "\n",
    "# Define las variables independientes y dependiente\n",
    "X = df[['imdfetn', 'imsmetn']]\n",
    "y = df['valoracion_negativa']\n",
    "\n",
    "# Crea un gráfico de dispersión\n",
    "fig, ax = plt.subplots()\n",
    "ax.scatter(X[y == 0]['imdfetn'], X[y == 0]['imsmetn'], c='green', label='No negativo')\n",
    "ax.scatter(X[y == 1]['imdfetn'], X[y == 1]['imsmetn'], c='red', label='Negativo')\n",
    "ax.set_xlabel('imdfetn')\n",
    "ax.set_ylabel('imsmetn')\n",
    "ax.legend()\n",
    "plt.show()\n"
   ]
  },
  {
   "cell_type": "code",
   "execution_count": 95,
   "metadata": {},
   "outputs": [
    {
     "name": "stdout",
     "output_type": "stream",
     "text": [
      "Coeficiente imdfetn: -8.32390274335794e-14\n",
      "Coeficiente imsmetn: 2.0317081350640365e-14\n",
      "Coeficiente imbgeco: 0.9999999999999962\n"
     ]
    }
   ],
   "source": [
    "print('Coeficiente imdfetn:', reg.coef_[0])\n",
    "print('Coeficiente imsmetn:', reg.coef_[1])\n",
    "print('Coeficiente imbgeco:', reg.coef_[2])"
   ]
  },
  {
   "attachments": {},
   "cell_type": "markdown",
   "metadata": {},
   "source": [
    "### 3. No hay una diferencia concluyente entre los encuestados de distintos países.\n"
   ]
  },
  {
   "cell_type": "code",
   "execution_count": 107,
   "metadata": {},
   "outputs": [],
   "source": [
    "selected_countries = ['ES', 'IT', 'FR']\n",
    "df_selected = df[df['cntry'].isin(selected_countries)]"
   ]
  },
  {
   "cell_type": "code",
   "execution_count": 109,
   "metadata": {},
   "outputs": [
    {
     "data": {
      "image/png": "[encoded data removed]",
      "text/plain": [
       "<Figure size 432x288 with 1 Axes>"
      ]
     },
     "metadata": {},
     "output_type": "display_data"
    }
   ],
   "source": [
    "immigration_perception_country = df[['imsmetn', 'imbgeco', 'imdfetn', 'cntry']]\n",
    "\n",
    "# Creamos la gráfica\n",
    "sns.boxplot(x='cntry', y='value', hue='variable', data=pd.melt(immigration_perception_country, id_vars=['cntry']), palette='Set3')\n",
    "\n",
    "# Añadimos un título\n",
    "plt.title('Perspectiva sobre inmigración por país')\n",
    "\n",
    "# Mostramos la gráfica\n",
    "plt.show()"
   ]
  },
  {
   "cell_type": "code",
   "execution_count": 6,
   "metadata": {},
   "outputs": [],
   "source": [
    "df['nl'] = pd.get_dummies(df['cntry'])['NL']\n",
    "df['it'] = pd.get_dummies(df['cntry'])['IT']\n",
    "df['fr'] = pd.get_dummies(df['cntry'])['FR']"
   ]
  },
  {
   "cell_type": "code",
   "execution_count": 19,
   "metadata": {},
   "outputs": [
    {
     "name": "stdout",
     "output_type": "stream",
     "text": [
      "[[-0.16074428 -0.03601548 -0.17788807 -0.04280939  0.03739308]]\n"
     ]
    }
   ],
   "source": [
    "# Crear las columnas booleanas para cada país\n",
    "df['nl'] = pd.get_dummies(df['cntry'])['NL']\n",
    "df['it'] = pd.get_dummies(df['cntry'])['IT']\n",
    "df['fr'] = pd.get_dummies(df['cntry'])['FR']\n",
    "df['pt'] = pd.get_dummies(df['cntry'])['PT']\n",
    "df['gr'] = pd.get_dummies(df['cntry'])['GR']\n",
    "\n",
    "# Definir las variables predictoras (X) y la variable objetivo (y)\n",
    "X = df[['nl', 'it', 'fr', 'pt', 'gr']]\n",
    "y = df[['imsmetn']]\n",
    "\n",
    "# El modelo de regresión lineal\n",
    "reg = LinearRegression().fit(X, y)\n",
    "\n",
    "# Obtener los coeficientes de la regresión lineal\n",
    "print(reg.coef_)"
   ]
  },
  {
   "cell_type": "code",
   "execution_count": 20,
   "metadata": {},
   "outputs": [
    {
     "name": "stdout",
     "output_type": "stream",
     "text": [
      "[[-0.50355275 -0.22431485 -0.36361982 -0.32029297  0.56926727]]\n"
     ]
    }
   ],
   "source": [
    "# Crear las columnas booleanas para cada país\n",
    "df['nl'] = pd.get_dummies(df['cntry'])['NL']\n",
    "df['it'] = pd.get_dummies(df['cntry'])['IT']\n",
    "df['fr'] = pd.get_dummies(df['cntry'])['FR']\n",
    "df['pt'] = pd.get_dummies(df['cntry'])['PT']\n",
    "df['gr'] = pd.get_dummies(df['cntry'])['GR']\n",
    "\n",
    "# Definir las variables predictoras (X) y la variable objetivo (y)\n",
    "X = df[['nl', 'it', 'fr', 'pt', 'gr']]\n",
    "y = df[['imdfetn']]\n",
    "\n",
    "# El modelo de regresión lineal\n",
    "reg = LinearRegression().fit(X, y)\n",
    "\n",
    "# Obtener los coeficientes de la regresión lineal\n",
    "print(reg.coef_)"
   ]
  },
  {
   "cell_type": "code",
   "execution_count": 22,
   "metadata": {},
   "outputs": [
    {
     "name": "stdout",
     "output_type": "stream",
     "text": [
      "[[-0.27249271 -0.01742914 -0.11932408 -0.40316182  0.28802545]]\n"
     ]
    }
   ],
   "source": [
    "# Crear las columnas booleanas para cada país\n",
    "df['nl'] = pd.get_dummies(df['cntry'])['NL']\n",
    "df['it'] = pd.get_dummies(df['cntry'])['IT']\n",
    "df['fr'] = pd.get_dummies(df['cntry'])['FR']\n",
    "df['pt'] = pd.get_dummies(df['cntry'])['PT']\n",
    "df['gr'] = pd.get_dummies(df['cntry'])['GR']\n",
    "\n",
    "# Definir las variables predictoras (X) y la variable objetivo (y)\n",
    "X = df[['nl', 'it', 'fr', 'pt', 'gr']]\n",
    "y = df[['imbgeco']]\n",
    "\n",
    "# El modelo de regresión lineal\n",
    "reg = LinearRegression().fit(X, y)\n",
    "\n",
    "# Obtener los coeficientes de la regresión lineal\n",
    "print(reg.coef_)"
   ]
  },
  {
   "cell_type": "code",
   "execution_count": 24,
   "metadata": {},
   "outputs": [
    {
     "name": "stdout",
     "output_type": "stream",
     "text": [
      "[[-0.31226325 -0.09258649 -0.22027732 -0.25542139  0.2982286 ]]\n"
     ]
    }
   ],
   "source": [
    "# Crear las columnas booleanas para cada país\n",
    "df['nl'] = pd.get_dummies(df['cntry'])['NL']\n",
    "df['it'] = pd.get_dummies(df['cntry'])['IT']\n",
    "df['fr'] = pd.get_dummies(df['cntry'])['FR']\n",
    "df['pt'] = pd.get_dummies(df['cntry'])['PT']\n",
    "df['gr'] = pd.get_dummies(df['cntry'])['GR']\n",
    "\n",
    "# Definir las variables predictoras (X) y la variable objetivo (y)\n",
    "X = df[['nl', 'it', 'fr', 'pt', 'gr']]\n",
    "y = df[['immigration_perception']]\n",
    "\n",
    "# El modelo de regresión lineal\n",
    "reg = LinearRegression().fit(X, y)\n",
    "\n",
    "# Obtener los coeficientes de la regresión lineal\n",
    "print(reg.coef_)"
   ]
  },
  {
   "cell_type": "code",
   "execution_count": 30,
   "metadata": {},
   "outputs": [
    {
     "data": {
      "image/png": "[encoded data removed]",
      "text/plain": [
       "<Figure size 432x288 with 1 Axes>"
      ]
     },
     "metadata": {
      "needs_background": "light"
     },
     "output_type": "display_data"
    }
   ],
   "source": [
    "# Crear una lista con los coeficientes\n",
    "coef = reg.coef_.flatten().tolist()\n",
    "\n",
    "# Crear una lista con los nombres de los países\n",
    "paises = ['NL', 'IT', 'FR', 'PT', 'GR']\n",
    "\n",
    "# Crear el gráfico de barras\n",
    "plt.bar(paises, coef)\n",
    "\n",
    "# Agregar etiquetas y título\n",
    "plt.xlabel('Países')\n",
    "plt.ylabel('Coeficiente')\n",
    "plt.title('Coeficientes de la regresión lineal para cada país')\n",
    "\n",
    "# Mostrar el gráfico\n",
    "plt.show()"
   ]
  },
  {
   "cell_type": "code",
   "execution_count": 23,
   "metadata": {},
   "outputs": [],
   "source": [
    "df['immigration_perception'] = df[['imsmetn', 'imdfetn', 'imbgeco']].mean(axis=1)\n"
   ]
  },
  {
   "cell_type": "code",
   "execution_count": 29,
   "metadata": {},
   "outputs": [
    {
     "name": "stdout",
     "output_type": "stream",
     "text": [
      "F-value: 325.1695478176523\n",
      "p-value: 3.4836583904198476e-263\n"
     ]
    }
   ],
   "source": [
    "f_value, p_value = f_oneway(df.loc[df['cntry'] == 'NL', 'immigration_perception'],\n",
    "                             df.loc[df['cntry'] == 'IT', 'immigration_perception'],\n",
    "                             df.loc[df['cntry'] == 'FR', 'immigration_perception'],\n",
    "                             df.loc[df['cntry'] == 'PT', 'immigration_perception'],\n",
    "                             df.loc[df['cntry'] == 'GR', 'immigration_perception'])\n",
    "\n",
    "print(\"F-value:\", f_value)\n",
    "print(\"p-value:\", p_value)"
   ]
  },
  {
   "attachments": {},
   "cell_type": "markdown",
   "metadata": {},
   "source": [
    "\n",
    "Estos valores indican que la hipótesis nula de que no hay diferencia en la percepción de la inmigración entre los países debe ser rechazada. El valor del F-estadístico es alto y el valor p es muy pequeño, lo que sugiere que la diferencia observada en la percepción de la inmigración entre los países no se debe al azar. Por lo tanto, podemos concluir que la percepción de la inmigración es significativamente diferente entre los países incluidos en el análisis."
   ]
  }
 ],
 "metadata": {
  "kernelspec": {
   "display_name": "ironhack",
   "language": "python",
   "name": "python3"
  },
  "language_info": {
   "codemirror_mode": {
    "name": "ipython",
    "version": 3
   },
   "file_extension": ".py",
   "mimetype": "text/x-python",
   "name": "python",
   "nbconvert_exporter": "python",
   "pygments_lexer": "ipython3",
   "version": "3.9.12"
  },
  "orig_nbformat": 4
 },
 "nbformat": 4,
 "nbformat_minor": 2
}
